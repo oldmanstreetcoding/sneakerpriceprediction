{
  "cells": [
    {
      "cell_type": "code",
      "execution_count": 1,
      "metadata": {
        "colab": {
          "base_uri": "https://localhost:8080/",
          "height": 339
        },
        "id": "rnhTikbnZp4m",
        "outputId": "9cd49751-b707-43eb-f98c-81cddb77e24d"
      },
      "outputs": [
        {
          "name": "stdout",
          "output_type": "stream",
          "text": [
            "                                              urlKey brand condition  \\\n",
            "0               nike-air-force-1-mid-off-white-black  Nike       New   \n",
            "1    nike-air-force-1-mid-sp-off-white-varsity-maize  Nike       New   \n",
            "2               nike-air-force-1-mid-off-white-white  Nike       New   \n",
            "3          nike-air-force-1-mid-off-white-pine-green  Nike       New   \n",
            "4  nike-air-force-1-react-black-violet-star-barel...  Nike       New   \n",
            "\n",
            "  productCategory gender                                           thumbUrl  \\\n",
            "0        sneakers    men  https://images.stockx.com/images/Nike-Air-Forc...   \n",
            "1        sneakers    men  https://images.stockx.com/images/Nike-Air-Forc...   \n",
            "2        sneakers    men  https://images.stockx.com/images/Nike-Air-Forc...   \n",
            "3        sneakers    men  https://images.stockx.com/images/Nike-Air-Forc...   \n",
            "4        sneakers    men  https://images.stockx.com/images/Nike-Air-Forc...   \n",
            "\n",
            "   retailPrice releaseDate  averagePrice_Dead_Stock  \\\n",
            "0        185.0  2022-06-23                      167   \n",
            "1        205.0  2023-11-09                      155   \n",
            "2        185.0  2022-06-23                      159   \n",
            "3        205.0  2023-04-28                      180   \n",
            "4        120.0  2020-01-17                      141   \n",
            "\n",
            "   averagePrice_Annual_Statistics  ...  size26 lastSale26 size27 lastSale27  \\\n",
            "0                             167  ...     NaN        NaN    NaN        NaN   \n",
            "1                             155  ...     NaN        NaN    NaN        NaN   \n",
            "2                             159  ...     NaN        NaN    NaN        NaN   \n",
            "3                             180  ...     NaN        NaN    NaN        NaN   \n",
            "4                             141  ...     NaN        NaN    NaN        NaN   \n",
            "\n",
            "  size28 lastSale28 size29 lastSale29 size30 lastSale30  \n",
            "0    NaN        NaN    NaN        NaN    NaN        NaN  \n",
            "1    NaN        NaN    NaN        NaN    NaN        NaN  \n",
            "2    NaN        NaN    NaN        NaN    NaN        NaN  \n",
            "3    NaN        NaN    NaN        NaN    NaN        NaN  \n",
            "4    NaN        NaN    NaN        NaN    NaN        NaN  \n",
            "\n",
            "[5 rows x 84 columns]\n"
          ]
        }
      ],
      "source": [
        "import pandas as pd\n",
        "import numpy as np\n",
        "\n",
        "df = pd.read_csv('./data/stockx_vyuki.csv')\n",
        "print(df.head())"
      ]
    },
    {
      "cell_type": "code",
      "execution_count": 2,
      "metadata": {
        "colab": {
          "base_uri": "https://localhost:8080/"
        },
        "id": "ek-by9M1aHvJ",
        "outputId": "ea1ef017-9301-41fd-d759-95e6df7d9fdd"
      },
      "outputs": [
        {
          "name": "stdout",
          "output_type": "stream",
          "text": [
            "                                              urlKey brand condition  \\\n",
            "0               nike-air-force-1-mid-off-white-black  Nike       New   \n",
            "1    nike-air-force-1-mid-sp-off-white-varsity-maize  Nike       New   \n",
            "2               nike-air-force-1-mid-off-white-white  Nike       New   \n",
            "3          nike-air-force-1-mid-off-white-pine-green  Nike       New   \n",
            "4  nike-air-force-1-react-black-violet-star-barel...  Nike       New   \n",
            "\n",
            "  productCategory gender                                           thumbUrl  \\\n",
            "0        sneakers    men  https://images.stockx.com/images/Nike-Air-Forc...   \n",
            "1        sneakers    men  https://images.stockx.com/images/Nike-Air-Forc...   \n",
            "2        sneakers    men  https://images.stockx.com/images/Nike-Air-Forc...   \n",
            "3        sneakers    men  https://images.stockx.com/images/Nike-Air-Forc...   \n",
            "4        sneakers    men  https://images.stockx.com/images/Nike-Air-Forc...   \n",
            "\n",
            "   retailPrice releaseDate  averagePrice_Dead_Stock  \\\n",
            "0        185.0  2022-06-23                      167   \n",
            "1        205.0  2023-11-09                      155   \n",
            "2        185.0  2022-06-23                      159   \n",
            "3        205.0  2023-04-28                      180   \n",
            "4        120.0  2020-01-17                      141   \n",
            "\n",
            "   averagePrice_Annual_Statistics  ...  size26 lastSale26 size27 lastSale27  \\\n",
            "0                             167  ...     NaN        NaN    NaN        NaN   \n",
            "1                             155  ...     NaN        NaN    NaN        NaN   \n",
            "2                             159  ...     NaN        NaN    NaN        NaN   \n",
            "3                             180  ...     NaN        NaN    NaN        NaN   \n",
            "4                             141  ...     NaN        NaN    NaN        NaN   \n",
            "\n",
            "  size28 lastSale28 size29 lastSale29 size30 lastSale30  \n",
            "0    NaN        NaN    NaN        NaN    NaN        NaN  \n",
            "1    NaN        NaN    NaN        NaN    NaN        NaN  \n",
            "2    NaN        NaN    NaN        NaN    NaN        NaN  \n",
            "3    NaN        NaN    NaN        NaN    NaN        NaN  \n",
            "4    NaN        NaN    NaN        NaN    NaN        NaN  \n",
            "\n",
            "[5 rows x 84 columns]\n"
          ]
        }
      ],
      "source": [
        "# List of 'size' and 'lastSale' columns\n",
        "size_columns = ['size{}'.format(i) for i in range(1, 31)]\n",
        "lastSale_columns = ['lastSale{}'.format(i) for i in range(1, 31)]\n",
        "\n",
        "# Clean 'size' columns by removing 'W's and converting to numeric\n",
        "for column in size_columns:\n",
        "    df[column] = df[column].astype(str).str.replace('W', '', regex=True)\n",
        "    df[column] = pd.to_numeric(df[column], errors='coerce')\n",
        "\n",
        "# Convert 'lastSale' columns to numeric\n",
        "for column in lastSale_columns:\n",
        "    df[column] = pd.to_numeric(df[column], errors='coerce')\n",
        "\n",
        "print(df.head())"
      ]
    },
    {
      "cell_type": "code",
      "execution_count": 3,
      "metadata": {
        "id": "hz5zBTwwaJTW"
      },
      "outputs": [],
      "source": [
        "price_columns = [\n",
        "    'averagePrice_Annual_Statistics',\n",
        "    'averagePrice_Dead_Stock',\n",
        "    'retailPrice'\n",
        "]\n",
        "for column in price_columns:\n",
        "  df[column] = pd.to_numeric(df[column], errors='coerce')"
      ]
    },
    {
      "cell_type": "code",
      "execution_count": 4,
      "metadata": {
        "id": "mchBmf_AaMmO"
      },
      "outputs": [],
      "source": [
        "df['releaseDate'] = pd.to_datetime(df['releaseDate'])\n",
        "df['days_since_release'] = (pd.Timestamp.now() - df['releaseDate']).dt.days"
      ]
    },
    {
      "cell_type": "code",
      "execution_count": 5,
      "metadata": {
        "colab": {
          "base_uri": "https://localhost:8080/"
        },
        "id": "C9CRchSLaeCq",
        "outputId": "b9efa5b0-fa91-4e5b-ddaf-e9dd27bb78f6"
      },
      "outputs": [
        {
          "name": "stdout",
          "output_type": "stream",
          "text": [
            "                                              urlKey condition  \\\n",
            "0               nike-air-force-1-mid-off-white-black       New   \n",
            "1    nike-air-force-1-mid-sp-off-white-varsity-maize       New   \n",
            "2               nike-air-force-1-mid-off-white-white       New   \n",
            "3          nike-air-force-1-mid-off-white-pine-green       New   \n",
            "4  nike-air-force-1-react-black-violet-star-barel...       New   \n",
            "\n",
            "  productCategory                                           thumbUrl  \\\n",
            "0        sneakers  https://images.stockx.com/images/Nike-Air-Forc...   \n",
            "1        sneakers  https://images.stockx.com/images/Nike-Air-Forc...   \n",
            "2        sneakers  https://images.stockx.com/images/Nike-Air-Forc...   \n",
            "3        sneakers  https://images.stockx.com/images/Nike-Air-Forc...   \n",
            "4        sneakers  https://images.stockx.com/images/Nike-Air-Forc...   \n",
            "\n",
            "   retailPrice releaseDate  averagePrice_Dead_Stock  \\\n",
            "0        185.0  2022-06-23                      167   \n",
            "1        205.0  2023-11-09                      155   \n",
            "2        185.0  2022-06-23                      159   \n",
            "3        205.0  2023-04-28                      180   \n",
            "4        120.0  2020-01-17                      141   \n",
            "\n",
            "   averagePrice_Annual_Statistics  salesCount_Annual             primaryTitle  \\\n",
            "0                             167               4589     Nike Air Force 1 Mid   \n",
            "1                             155               2146  Nike Air Force 1 Mid SP   \n",
            "2                             159               2699     Nike Air Force 1 Mid   \n",
            "3                             180               4139     Nike Air Force 1 Mid   \n",
            "4                             141                 16   Nike Air Force 1 React   \n",
            "\n",
            "   ... size30 lastSale30 days_since_release gender_infant gender_men  \\\n",
            "0  ...    NaN        NaN              639.0         False       True   \n",
            "1  ...    NaN        NaN              135.0         False       True   \n",
            "2  ...    NaN        NaN              639.0         False       True   \n",
            "3  ...    NaN        NaN              330.0         False       True   \n",
            "4  ...    NaN        NaN             1527.0         False       True   \n",
            "\n",
            "  gender_preschool gender_toddler gender_unisex  gender_women  brand_Nike  \n",
            "0            False          False         False         False        True  \n",
            "1            False          False         False         False        True  \n",
            "2            False          False         False         False        True  \n",
            "3            False          False         False         False        True  \n",
            "4            False          False         False         False        True  \n",
            "\n",
            "[5 rows x 90 columns]\n"
          ]
        }
      ],
      "source": [
        "#Create dummy variables for the gender & brand\n",
        "df_with_dummies = pd.get_dummies(df, columns=['gender','brand'], drop_first=True)\n",
        "print(df_with_dummies.head())"
      ]
    },
    {
      "cell_type": "code",
      "execution_count": 6,
      "metadata": {
        "colab": {
          "base_uri": "https://localhost:8080/"
        },
        "id": "rFRW5sL51je7",
        "outputId": "241a5b67-b1f2-472a-cd56-22e0de55b19d"
      },
      "outputs": [
        {
          "name": "stdout",
          "output_type": "stream",
          "text": [
            "                                              urlKey brand condition  \\\n",
            "0               nike-air-force-1-mid-off-white-black  Nike       New   \n",
            "1    nike-air-force-1-mid-sp-off-white-varsity-maize  Nike       New   \n",
            "2               nike-air-force-1-mid-off-white-white  Nike       New   \n",
            "3          nike-air-force-1-mid-off-white-pine-green  Nike       New   \n",
            "4  nike-air-force-1-react-black-violet-star-barel...  Nike       New   \n",
            "\n",
            "  productCategory gender                                           thumbUrl  \\\n",
            "0        sneakers    men  https://images.stockx.com/images/Nike-Air-Forc...   \n",
            "1        sneakers    men  https://images.stockx.com/images/Nike-Air-Forc...   \n",
            "2        sneakers    men  https://images.stockx.com/images/Nike-Air-Forc...   \n",
            "3        sneakers    men  https://images.stockx.com/images/Nike-Air-Forc...   \n",
            "4        sneakers    men  https://images.stockx.com/images/Nike-Air-Forc...   \n",
            "\n",
            "   retailPrice releaseDate  averagePrice_Dead_Stock  \\\n",
            "0        185.0  2022-06-23                      167   \n",
            "1        205.0  2023-11-09                      155   \n",
            "2        185.0  2022-06-23                      159   \n",
            "3        205.0  2023-04-28                      180   \n",
            "4        120.0  2020-01-17                      141   \n",
            "\n",
            "   averagePrice_Annual_Statistics  ...  days_since_release gender_child  \\\n",
            "0                             167  ...               639.0        False   \n",
            "1                             155  ...               135.0        False   \n",
            "2                             159  ...               639.0        False   \n",
            "3                             180  ...               330.0        False   \n",
            "4                             141  ...              1527.0        False   \n",
            "\n",
            "  gender_infant gender_men gender_preschool gender_toddler gender_unisex  \\\n",
            "0         False       True            False          False         False   \n",
            "1         False       True            False          False         False   \n",
            "2         False       True            False          False         False   \n",
            "3         False       True            False          False         False   \n",
            "4         False       True            False          False         False   \n",
            "\n",
            "  gender_women brand_New Balance brand_Nike  \n",
            "0        False             False       True  \n",
            "1        False             False       True  \n",
            "2        False             False       True  \n",
            "3        False             False       True  \n",
            "4        False             False       True  \n",
            "\n",
            "[5 rows x 94 columns]\n"
          ]
        }
      ],
      "source": [
        "\n",
        "# Create dummy variables without dropping the original columns\n",
        "dummies = pd.get_dummies(df[['gender', 'brand']], drop_first=False)\n",
        "\n",
        "# Concatenate the dummy variables with the original DataFrame\n",
        "df_with_dummies = pd.concat([df, dummies], axis=1)\n",
        "\n",
        "print(df_with_dummies.head())\n"
      ]
    },
    {
      "cell_type": "code",
      "execution_count": 7,
      "metadata": {
        "colab": {
          "base_uri": "https://localhost:8080/"
        },
        "id": "SlbzL8MKaxid",
        "outputId": "57c8c897-ea9e-4e99-ea90-e05006518770"
      },
      "outputs": [
        {
          "name": "stdout",
          "output_type": "stream",
          "text": [
            "['urlKey', 'brand', 'condition', 'productCategory', 'gender', 'thumbUrl', 'retailPrice', 'releaseDate', 'averagePrice_Dead_Stock', 'averagePrice_Annual_Statistics', 'salesCount_Annual', 'primaryTitle', 'secondaryTitle', 'colorWay', 'color1', 'color2', 'color3', 'color4', 'color5', 'color6', 'color7', 'color8', 'color9', 'color10', 'size1', 'lastSale1', 'size2', 'lastSale2', 'size3', 'lastSale3', 'size4', 'lastSale4', 'size5', 'lastSale5', 'size6', 'lastSale6', 'size7', 'lastSale7', 'size8', 'lastSale8', 'size9', 'lastSale9', 'size10', 'lastSale10', 'size11', 'lastSale11', 'size12', 'lastSale12', 'size13', 'lastSale13', 'size14', 'lastSale14', 'size15', 'lastSale15', 'size16', 'lastSale16', 'size17', 'lastSale17', 'size18', 'lastSale18', 'size19', 'lastSale19', 'size20', 'lastSale20', 'size21', 'lastSale21', 'size22', 'lastSale22', 'size23', 'lastSale23', 'size24', 'lastSale24', 'size25', 'lastSale25', 'size26', 'lastSale26', 'size27', 'lastSale27', 'size28', 'lastSale28', 'size29', 'lastSale29', 'size30', 'lastSale30', 'days_since_release', 'gender_child', 'gender_infant', 'gender_men', 'gender_preschool', 'gender_toddler', 'gender_unisex', 'gender_women', 'brand_New Balance', 'brand_Nike']\n"
          ]
        }
      ],
      "source": [
        "print(df_with_dummies.columns.tolist())"
      ]
    },
    {
      "cell_type": "code",
      "execution_count": 28,
      "metadata": {},
      "outputs": [
        {
          "name": "stdout",
          "output_type": "stream",
          "text": [
            "Number of Rows 1784\n",
            "Number of Columns 94\n"
          ]
        }
      ],
      "source": [
        "print(\"Number of Rows\", df_with_dummies.shape[0])\n",
        "print(\"Number of Columns\", df_with_dummies.shape[1])"
      ]
    },
    {
      "cell_type": "code",
      "execution_count": 8,
      "metadata": {
        "id": "7SEp8JZ1a0ra"
      },
      "outputs": [],
      "source": [
        "# Define a list of size columns and lastSale columns\n",
        "size_columns = [col for col in df_with_dummies.columns if 'size' in col]\n",
        "lastSale_columns = [col for col in df_with_dummies.columns if 'lastSale' in col]\n",
        "\n",
        "# Pair the size columns and lastSale columns correctly\n",
        "pairs = list(zip(size_columns, lastSale_columns))\n",
        "\n",
        "additional_columns = ['urlKey','condition','gender','brand','retailPrice','days_since_release', 'gender_men','gender_women','gender_infant','gender_preschool','gender_toddler','gender_unisex','brand_Nike','averagePrice_Dead_Stock','averagePrice_Annual_Statistics','salesCount_Annual','color1']\n",
        "\n",
        "# Use pd.melt to transform each pair and concatenate them into a new dataframe\n",
        "melted_dfs = []\n",
        "for size_col, sale_col in pairs:\n",
        "    # Melt the DataFrame with the specific size and lastSale columns\n",
        "    melted_df = df_with_dummies.melt(id_vars=additional_columns, value_vars=[size_col, sale_col], var_name='variable', value_name='value')\n",
        "\n",
        "    # Determine if the row is from size or lastSale based on 'variable' and then assign to 'size' or 'lastSale'\n",
        "    melted_df['size'] = melted_df.apply(lambda row: row['value'] if 'size' in row['variable'] else np.nan, axis=1)\n",
        "    melted_df['lastSale'] = melted_df.apply(lambda row: row['value'] if 'lastSale' in row['variable'] else np.nan, axis=1)\n",
        "\n",
        "    # Drop the intermediate columns\n",
        "    melted_df.drop(['variable', 'value'], axis=1, inplace=True)\n",
        "    melted_dfs.append(melted_df)\n",
        "\n",
        "# Concatenate all the small dataframes into one\n",
        "long_format_df = pd.concat(melted_dfs, ignore_index=True)\n",
        "\n",
        "# Forward fill the NaNs for the 'size' column as each 'lastSale' entry should correspond to its above 'size'\n",
        "long_format_df['size'] = long_format_df['size'].ffill()\n",
        "\n",
        "# Drop the rows where 'lastSale' is NaN because we only want complete size-lastSale pairs\n",
        "long_format_df.dropna(subset=['size', 'lastSale'], inplace=True)\n",
        "\n",
        "# Remove rows where 'size' or 'lastSale' is 0.0\n",
        "long_format_df = long_format_df[(long_format_df['size'] != 0.0) & (long_format_df['lastSale'] != 0.0)]\n",
        "\n",
        "# Reset the index of the final DataFrame\n",
        "long_format_df.reset_index(drop=True, inplace=True)\n",
        "\n"
      ]
    },
    {
      "cell_type": "code",
      "execution_count": 29,
      "metadata": {},
      "outputs": [
        {
          "name": "stdout",
          "output_type": "stream",
          "text": [
            "Number of Rows 16437\n",
            "Number of Columns 19\n"
          ]
        }
      ],
      "source": [
        "print(\"Number of Rows\", long_format_df.shape[0])\n",
        "print(\"Number of Columns\", long_format_df.shape[1])"
      ]
    },
    {
      "cell_type": "code",
      "execution_count": 27,
      "metadata": {
        "colab": {
          "base_uri": "https://localhost:8080/"
        },
        "id": "2Ui_xh97bQWd",
        "outputId": "fa1fa0dc-1301-4f1a-d755-61d8d33c208b"
      },
      "outputs": [
        {
          "name": "stdout",
          "output_type": "stream",
          "text": [
            "                                                  urlKey condition gender  \\\n",
            "0                   nike-air-force-1-mid-off-white-black       New    men   \n",
            "1        nike-air-force-1-mid-sp-off-white-varsity-maize       New    men   \n",
            "2                   nike-air-force-1-mid-off-white-white       New    men   \n",
            "3              nike-air-force-1-mid-off-white-pine-green       New    men   \n",
            "4      nike-air-force-1-shadow-removable-patches-blac...       New  women   \n",
            "...                                                  ...       ...    ...   \n",
            "16432                       new-balance-574-classic-navy       New    men   \n",
            "16433                   new-balance-574-pigment-team-red       New    men   \n",
            "16434              new-balance-574-grey-day-classic-grey       New    men   \n",
            "16435              new-balance-574-dark-navy-marred-blue       New    men   \n",
            "16436                       new-balance-574-triple-black       New    men   \n",
            "\n",
            "             brand  retailPrice  days_since_release  gender_men  gender_women  \\\n",
            "0             Nike        185.0               639.0        True         False   \n",
            "1             Nike        205.0               135.0        True         False   \n",
            "2             Nike        185.0               639.0        True         False   \n",
            "3             Nike        205.0               330.0        True         False   \n",
            "4             Nike        120.0              1537.0       False          True   \n",
            "...            ...          ...                 ...         ...           ...   \n",
            "16432  New Balance         80.0              1807.0        True         False   \n",
            "16433  New Balance         80.0              1908.0        True         False   \n",
            "16434  New Balance         80.0              2200.0        True         False   \n",
            "16435  New Balance         80.0              1908.0        True         False   \n",
            "16436  New Balance         80.0              2273.0        True         False   \n",
            "\n",
            "       gender_infant  gender_preschool  gender_toddler  gender_unisex  \\\n",
            "0              False             False           False          False   \n",
            "1              False             False           False          False   \n",
            "2              False             False           False          False   \n",
            "3              False             False           False          False   \n",
            "4              False             False           False          False   \n",
            "...              ...               ...             ...            ...   \n",
            "16432          False             False           False          False   \n",
            "16433          False             False           False          False   \n",
            "16434          False             False           False          False   \n",
            "16435          False             False           False          False   \n",
            "16436          False             False           False          False   \n",
            "\n",
            "       brand_Nike  averagePrice_Dead_Stock  averagePrice_Annual_Statistics  \\\n",
            "0            True                      167                             167   \n",
            "1            True                      155                             155   \n",
            "2            True                      159                             159   \n",
            "3            True                      180                             180   \n",
            "4            True                      190                             190   \n",
            "...           ...                      ...                             ...   \n",
            "16432       False                      103                             103   \n",
            "16433       False                        0                               0   \n",
            "16434       False                       84                              84   \n",
            "16435       False                      116                             116   \n",
            "16436       False                      115                             115   \n",
            "\n",
            "       salesCount_Annual      color1  size  lastSale  \n",
            "0                   4589       Black   4.0      92.0  \n",
            "1                   2146       White   4.0     130.0  \n",
            "2                   2699       White   4.0      70.0  \n",
            "3                   4139  Pine Green   4.0     151.0  \n",
            "4                     24       Black   4.0     277.0  \n",
            "...                  ...         ...   ...       ...  \n",
            "16432                  3        Navy  11.0     142.0  \n",
            "16433                  0     Pigment  11.0      46.0  \n",
            "16434                 84        Grey  11.0      85.0  \n",
            "16435                  6   Dark Navy  11.0      80.0  \n",
            "16436                 24       Black  11.0     135.0  \n",
            "\n",
            "[16437 rows x 19 columns]\n"
          ]
        }
      ],
      "source": [
        "print(long_format_df)\n",
        "\n",
        "long_format_df.to_csv('long_format_df.csv', index=False)"
      ]
    },
    {
      "cell_type": "code",
      "execution_count": 10,
      "metadata": {
        "colab": {
          "base_uri": "https://localhost:8080/"
        },
        "id": "F_XkVCCPbTIv",
        "outputId": "3bcbbf38-8f0f-4760-b018-7366c39d0ace"
      },
      "outputs": [
        {
          "name": "stdout",
          "output_type": "stream",
          "text": [
            "urlKey                               0\n",
            "condition                            0\n",
            "gender                               0\n",
            "brand                                0\n",
            "retailPrice                         12\n",
            "days_since_release                2286\n",
            "gender_men                           0\n",
            "gender_women                         0\n",
            "gender_infant                        0\n",
            "gender_preschool                     0\n",
            "gender_toddler                       0\n",
            "gender_unisex                        0\n",
            "brand_Nike                           0\n",
            "averagePrice_Dead_Stock              0\n",
            "averagePrice_Annual_Statistics       0\n",
            "salesCount_Annual                    0\n",
            "color1                               0\n",
            "size                                 0\n",
            "lastSale                             0\n",
            "dtype: int64\n"
          ]
        }
      ],
      "source": [
        "# Check for null values in the DataFrame\n",
        "null_values = long_format_df.isnull().sum()\n",
        "print(null_values)"
      ]
    },
    {
      "cell_type": "code",
      "execution_count": 11,
      "metadata": {
        "colab": {
          "base_uri": "https://localhost:8080/"
        },
        "id": "iQXCfMR3YsLN",
        "outputId": "9d902556-0896-4a31-8569-6612625b1326"
      },
      "outputs": [
        {
          "name": "stdout",
          "output_type": "stream",
          "text": [
            "MAE: 115.68669129985312\n",
            "MSE: 485993.9325361981\n",
            "RMSE: 697.1326506025938\n"
          ]
        }
      ],
      "source": [
        "from sklearn.model_selection import train_test_split\n",
        "from sklearn.linear_model import LinearRegression\n",
        "from sklearn.metrics import mean_absolute_error, mean_squared_error, r2_score\n",
        "from sklearn.preprocessing import OneHotEncoder\n",
        "from sklearn.compose import ColumnTransformer\n",
        "from sklearn.pipeline import Pipeline\n",
        "from sklearn.impute import SimpleImputer\n",
        "\n",
        "\n",
        "# Select features and target\n",
        "X = long_format_df.drop('lastSale', axis=1)\n",
        "y = long_format_df['lastSale']\n",
        "\n",
        "# Encode categorical variables\n",
        "categorical_features = ['color1','condition','urlKey','gender','brand']\n",
        "numerical_features = [col for col in X.columns if col not in categorical_features]\n",
        "\n",
        "# Preprocessing for numerical data: fill in any missing values with the median\n",
        "numerical_transformer = SimpleImputer(strategy='median')\n",
        "\n",
        "# Preprocessing for categorical data: fill in missing values with the most frequent value and apply one-hot encoding\n",
        "categorical_transformer = Pipeline(steps=[\n",
        "    ('imputer', SimpleImputer(strategy='most_frequent')),\n",
        "    ('onehot', OneHotEncoder(handle_unknown='ignore'))\n",
        "])\n",
        "\n",
        "# Bundle preprocessing for numerical and categorical data\n",
        "preprocessor = ColumnTransformer(\n",
        "    transformers=[\n",
        "        ('num', numerical_transformer, numerical_features),\n",
        "        ('cat', categorical_transformer, categorical_features)\n",
        "    ])\n",
        "\n",
        "# Define the model\n",
        "model = LinearRegression()\n",
        "\n",
        "# Bundle preprocessing and modeling code in a pipeline\n",
        "my_pipeline = Pipeline(steps=[('preprocessor', preprocessor),\n",
        "                              ('model', model)])\n",
        "\n",
        "# Split data into train and test sets\n",
        "X_train, X_test, y_train, y_test = train_test_split(X, y, test_size=0.2, random_state=0)\n",
        "\n",
        "# Preprocessing of training data, fit model\n",
        "my_pipeline.fit(X_train, y_train)\n",
        "\n",
        "# Preprocessing of validation data, get predictions\n",
        "preds = my_pipeline.predict(X_test)\n",
        "\n",
        "# Evaluate the model\n",
        "mae = mean_absolute_error(y_test, preds)\n",
        "mse = mean_squared_error(y_test, preds)\n",
        "rmse = mse ** 0.5\n",
        "print('MAE:', mae)\n",
        "print('MSE:', mse)\n",
        "print('RMSE:', rmse)\n"
      ]
    },
    {
      "cell_type": "markdown",
      "metadata": {
        "id": "w8gRH5MdY_Rf"
      },
      "source": [
        "Linear Regression : prediction model of lastSale"
      ]
    },
    {
      "cell_type": "code",
      "execution_count": 12,
      "metadata": {
        "id": "2i7xcePOXuY2"
      },
      "outputs": [],
      "source": [
        "features = ['retailPrice', 'days_since_release', 'gender_men', 'brand_Nike','averagePrice_Annual_Statistics']\n",
        "target = 'lastSale'\n",
        "\n",
        "X = long_format_df[features]\n",
        "y = long_format_df[target]\n",
        "\n",
        "imputer = SimpleImputer(strategy='median')\n",
        "\n",
        "X_train, X_test, y_train, y_test = train_test_split(X, y, test_size=0.2, random_state=42)\n",
        "\n",
        "# Impute the missing values in the feature set\n",
        "X_train_imputed = imputer.fit_transform(X_train)\n",
        "X_test_imputed = imputer.transform(X_test)\n"
      ]
    },
    {
      "cell_type": "code",
      "execution_count": 13,
      "metadata": {
        "colab": {
          "base_uri": "https://localhost:8080/"
        },
        "id": "gq-00a_5ZJrM",
        "outputId": "36e9c3e5-e6ce-4fb1-9a3f-74ff9693c32b"
      },
      "outputs": [
        {
          "name": "stdout",
          "output_type": "stream",
          "text": [
            "Mean Squared Error (MSE): 10274605.728752451\n",
            "Root Mean Squared Error (RMSE): 3205.402584505174\n",
            "R-squared (R2): 0.031152790455652557\n",
            "                                Coefficient\n",
            "retailPrice                       11.988225\n",
            "days_since_release                 0.404529\n",
            "gender_men                        10.406430\n",
            "brand_Nike                       -52.599454\n",
            "averagePrice_Annual_Statistics     0.537116\n"
          ]
        }
      ],
      "source": [
        "# Create and fit the linear model on the imputed data\n",
        "model = LinearRegression()\n",
        "model.fit(X_train_imputed, y_train)\n",
        "\n",
        "# Predict on the test data\n",
        "y_pred = model.predict(X_test_imputed)\n",
        "\n",
        "# Calculate the performance metrics\n",
        "mse = mean_squared_error(y_test, y_pred)\n",
        "rmse = mse ** 0.5\n",
        "r2 = r2_score(y_test, y_pred)\n",
        "\n",
        "# Print out the metrics\n",
        "print(f\"Mean Squared Error (MSE): {mse}\")\n",
        "print(f\"Root Mean Squared Error (RMSE): {rmse}\")\n",
        "print(f\"R-squared (R2): {r2}\")\n",
        "\n",
        "# Print the coefficients of the model\n",
        "coefficients = pd.DataFrame(model.coef_, features, columns=['Coefficient'])\n",
        "print(coefficients)"
      ]
    },
    {
      "cell_type": "code",
      "execution_count": 14,
      "metadata": {
        "colab": {
          "base_uri": "https://localhost:8080/"
        },
        "id": "xmhs8CIcZUyF",
        "outputId": "3881206a-29b1-4057-8bb7-fa7466e1a6c5"
      },
      "outputs": [
        {
          "name": "stdout",
          "output_type": "stream",
          "text": [
            "Lasso - Mean Squared Error (MSE): 10273177.939951522\n",
            "Lasso - Root Mean Squared Error (RMSE): 3205.1798607802843\n",
            "Lasso - R-squared (R2): 0.0312874242539819\n",
            "Ridge - Mean Squared Error (MSE): 10274601.406635597\n",
            "Ridge - Root Mean Squared Error (RMSE): 3205.4019103125893\n",
            "Ridge - R-squared (R2): 0.031153198011033667\n",
            "                                Lasso Coefficient\n",
            "retailPrice                             11.867280\n",
            "days_since_release                       0.405212\n",
            "gender_men                               0.000000\n",
            "brand_Nike                              -0.000000\n",
            "averagePrice_Annual_Statistics           0.534640\n",
            "                                Ridge Coefficient\n",
            "retailPrice                             11.987967\n",
            "days_since_release                       0.404534\n",
            "gender_men                              10.368836\n",
            "brand_Nike                             -52.381526\n",
            "averagePrice_Annual_Statistics           0.537101\n"
          ]
        }
      ],
      "source": [
        "from sklearn.linear_model import LassoCV, RidgeCV\n",
        "\n",
        "# Lasso regression with cross-validation to find the best alpha\n",
        "lasso = LassoCV(cv=5).fit(X_train_imputed, y_train)\n",
        "lasso_pred = lasso.predict(X_test_imputed)\n",
        "\n",
        "# Ridge regression with cross-validation to find the best alpha\n",
        "ridge = RidgeCV(cv=5).fit(X_train_imputed, y_train)\n",
        "ridge_pred = ridge.predict(X_test_imputed)\n",
        "\n",
        "# Evaluate Lasso performance\n",
        "lasso_mse = mean_squared_error(y_test, lasso_pred)\n",
        "lasso_rmse = lasso_mse ** 0.5\n",
        "lasso_r2 = r2_score(y_test, lasso_pred)\n",
        "\n",
        "# Evaluate Ridge performance\n",
        "ridge_mse = mean_squared_error(y_test, ridge_pred)\n",
        "ridge_rmse = ridge_mse ** 0.5\n",
        "ridge_r2 = r2_score(y_test, ridge_pred)\n",
        "\n",
        "# Print out the metrics for Lasso\n",
        "print(f\"Lasso - Mean Squared Error (MSE): {lasso_mse}\")\n",
        "print(f\"Lasso - Root Mean Squared Error (RMSE): {lasso_rmse}\")\n",
        "print(f\"Lasso - R-squared (R2): {lasso_r2}\")\n",
        "\n",
        "# Print out the metrics for Ridge\n",
        "print(f\"Ridge - Mean Squared Error (MSE): {ridge_mse}\")\n",
        "print(f\"Ridge - Root Mean Squared Error (RMSE): {ridge_rmse}\")\n",
        "print(f\"Ridge - R-squared (R2): {ridge_r2}\")\n",
        "\n",
        "# Coefficients\n",
        "lasso_coefficients = pd.DataFrame(lasso.coef_, features, columns=['Lasso Coefficient'])\n",
        "ridge_coefficients = pd.DataFrame(ridge.coef_, features, columns=['Ridge Coefficient'])\n",
        "\n",
        "print(lasso_coefficients)\n",
        "print(ridge_coefficients)"
      ]
    },
    {
      "cell_type": "markdown",
      "metadata": {
        "id": "pfRMtsbXZbEH"
      },
      "source": [
        "RandomForest: Prediction model of lastSale"
      ]
    },
    {
      "cell_type": "code",
      "execution_count": 25,
      "metadata": {
        "colab": {
          "base_uri": "https://localhost:8080/"
        },
        "id": "UTlqOtR1Zh86",
        "outputId": "4ef11ede-81d0-46ec-be79-d0b59e1e7d77"
      },
      "outputs": [
        {
          "name": "stdout",
          "output_type": "stream",
          "text": [
            "Random Forest - Mean Squared Error (MSE): 901313.1882148656\n",
            "Random Forest - Root Mean Squared Error (RMSE): 949.3751567293435\n",
            "Random Forest - R-squared (R2): 0.9150103867359278\n"
          ]
        }
      ],
      "source": [
        "from sklearn.ensemble import RandomForestRegressor\n",
        "from sklearn import metrics\n",
        "\n",
        "# Fit Random Forest model\n",
        "rf_model = RandomForestRegressor(n_estimators=100, random_state=42)\n",
        "rf_model.fit(X_train_imputed, y_train)\n",
        "\n",
        "# Predict and evaluate\n",
        "y_pred_rf = rf_model.predict(X_test_imputed)\n",
        "mse_rf = mean_squared_error(y_test, y_pred_rf)\n",
        "rmse_rf = mse_rf ** 0.5\n",
        "r2_rf = r2_score(y_test, y_pred_rf)\n",
        "\n",
        "print(f\"Random Forest - Mean Squared Error (MSE): {mse_rf}\")\n",
        "print(f\"Random Forest - Root Mean Squared Error (RMSE): {rmse_rf}\")\n",
        "print(f\"Random Forest - R-squared (R2): {r2_rf}\")"
      ]
    },
    {
      "cell_type": "markdown",
      "metadata": {
        "id": "GPzXYF2uyfu7"
      },
      "source": [
        "Dump the model & define the predict price method"
      ]
    },
    {
      "cell_type": "code",
      "execution_count": 26,
      "metadata": {
        "colab": {
          "base_uri": "https://localhost:8080/",
          "height": 193
        },
        "id": "vsJGd3NSxyeK",
        "outputId": "a6a214f4-f9f4-47b0-e8f4-1d1e319eaeb2"
      },
      "outputs": [
        {
          "data": {
            "text/plain": [
              "['rf_model.sav']"
            ]
          },
          "execution_count": 26,
          "metadata": {},
          "output_type": "execute_result"
        }
      ],
      "source": [
        "import joblib\n",
        "\n",
        "# Save the trained model and the imputer for later use\n",
        "joblib.dump(rf_model, 'rf_model.joblib')\n",
        "joblib.dump(imputer, 'imputer.joblib')\n",
        "\n",
        "# save the model to disk\n",
        "joblib.dump(rf_model, \"rf_model.sav\")"
      ]
    },
    {
      "cell_type": "code",
      "execution_count": 17,
      "metadata": {
        "id": "vTy4gQVJyKbK"
      },
      "outputs": [],
      "source": [
        "def predict_price(input_features_dict):\n",
        "    # Load the trained model and the imputer\n",
        "    model = joblib.load('rf_model.joblib')\n",
        "    imputer = joblib.load('imputer.joblib')\n",
        "\n",
        "    # Convert the input features dictionary to a DataFrame\n",
        "    input_df = pd.DataFrame(input_features_dict, index=[0])\n",
        "\n",
        "    # Ensure that the order of the features matches the training data\n",
        "    input_df = input_df[features]\n",
        "\n",
        "    # Impute any missing values\n",
        "    input_imputed = imputer.transform(input_df)\n",
        "\n",
        "    # Make prediction\n",
        "    prediction = model.predict(input_imputed)\n",
        "\n",
        "    return prediction[0]"
      ]
    },
    {
      "cell_type": "markdown",
      "metadata": {
        "id": "4rMvF5sNzCzg"
      },
      "source": [
        "Fetch features from dataframe according to user input"
      ]
    },
    {
      "cell_type": "code",
      "execution_count": 18,
      "metadata": {
        "id": "1NKwnTFnzA8l"
      },
      "outputs": [],
      "source": [
        "def fetch_features(brand, gender, color, size):\n",
        "    # Filter the DataFrame based on the user input\n",
        "    filtered_df = long_format_df[(long_format_df['brand'] == brand) &\n",
        "                                 (long_format_df['gender'] == gender) &\n",
        "                                 (long_format_df['color1'] == color) &\n",
        "                                 (long_format_df['size'] == size)]\n",
        "\n",
        "    # Assuming we take the latest or an average of the relevant features for simplicity\n",
        "    retailPrice = filtered_df['retailPrice'].median()\n",
        "    days_since_release = filtered_df['days_since_release'].median()\n",
        "    averagePrice_Annual_Statistics = filtered_df['averagePrice_Annual_Statistics'].median()\n",
        "\n",
        "    return {\n",
        "        'retailPrice': retailPrice,\n",
        "        'days_since_release': days_since_release,\n",
        "        'averagePrice_Annual_Statistics': averagePrice_Annual_Statistics,\n",
        "        'gender_men': 1 if gender == 'men' else 0,\n",
        "        'brand_Nike': 1 if brand == 'Nike' else 0\n",
        "    }\n"
      ]
    },
    {
      "cell_type": "code",
      "execution_count": 21,
      "metadata": {
        "colab": {
          "base_uri": "https://localhost:8080/"
        },
        "id": "RHFyB0GRzQq_",
        "outputId": "4ef93fa2-7969-408f-c433-2b6d0d79997f"
      },
      "outputs": [
        {
          "name": "stdout",
          "output_type": "stream",
          "text": [
            "The predicted price is: 132.36657034632043\n"
          ]
        }
      ],
      "source": [
        "def main():\n",
        "    # User input\n",
        "    brand = input(\"Brand: \")\n",
        "    gender = input(\"Gender: \")\n",
        "    color = input(\"Color: \")\n",
        "    size = input(\"Size: \")\n",
        "\n",
        "    # Fetch other features\n",
        "    input_features_dict = fetch_features(brand, gender, color, size)\n",
        "\n",
        "    # Predict price\n",
        "    predicted_price = predict_price(input_features_dict)\n",
        "\n",
        "    print(f\"The predicted price is: {predicted_price}\")\n",
        "\n",
        "if __name__ == \"__main__\":\n",
        "    main()\n"
      ]
    },
    {
      "cell_type": "markdown",
      "metadata": {
        "id": "Y_1ABM7xZMZI"
      },
      "source": [
        "Linear regression: prediction model of AvgPriceStats"
      ]
    },
    {
      "cell_type": "code",
      "execution_count": null,
      "metadata": {
        "id": "yxrCJY6bc3M9"
      },
      "outputs": [],
      "source": [
        "features = ['retailPrice', 'days_since_release', 'gender_men', 'brand_Nike','lastSale']\n",
        "target = 'averagePrice_Annual_Statistics'\n",
        "\n",
        "X = long_format_df[features]\n",
        "y = long_format_df[target]\n",
        "\n",
        "#imputer = SimpleImputer(strategy='median')\n",
        "\n",
        "X_train, X_test, y_train, y_test = train_test_split(X, y, test_size=0.2, random_state=42)\n",
        "\n",
        "# Impute the missing values in the feature set\n",
        "X_train_imputed = imputer.fit_transform(X_train)\n",
        "X_test_imputed = imputer.transform(X_test)\n",
        "\n"
      ]
    },
    {
      "cell_type": "code",
      "execution_count": null,
      "metadata": {
        "colab": {
          "base_uri": "https://localhost:8080/"
        },
        "id": "FYR-9taspZtm",
        "outputId": "1b09c00a-5385-49e2-b150-fea3eaf7ee76"
      },
      "outputs": [
        {
          "name": "stdout",
          "output_type": "stream",
          "text": [
            "Mean Squared Error (MSE): 158565.2960805942\n",
            "Root Mean Squared Error (RMSE): 398.2025817101067\n",
            "R-squared (R2): 0.11561647800869546\n",
            "                    Coefficient\n",
            "retailPrice            1.412109\n",
            "days_since_release     0.081579\n",
            "gender_men            50.785147\n",
            "brand_Nike            69.569551\n",
            "lastSale               0.009371\n"
          ]
        }
      ],
      "source": [
        "# Create and fit the linear model on the imputed data\n",
        "model = LinearRegression()\n",
        "model.fit(X_train_imputed, y_train)\n",
        "\n",
        "# Predict on the test data\n",
        "y_pred = model.predict(X_test_imputed)\n",
        "\n",
        "# Calculate the performance metrics\n",
        "mse = mean_squared_error(y_test, y_pred)\n",
        "rmse = mse ** 0.5\n",
        "r2 = r2_score(y_test, y_pred)\n",
        "\n",
        "# Print out the metrics\n",
        "print(f\"Mean Squared Error (MSE): {mse}\")\n",
        "print(f\"Root Mean Squared Error (RMSE): {rmse}\")\n",
        "print(f\"R-squared (R2): {r2}\")\n",
        "\n",
        "# Print the coefficients of the model\n",
        "coefficients = pd.DataFrame(model.coef_, features, columns=['Coefficient'])\n",
        "print(coefficients)"
      ]
    },
    {
      "cell_type": "code",
      "execution_count": null,
      "metadata": {
        "colab": {
          "base_uri": "https://localhost:8080/"
        },
        "id": "-uB34xQwivjn",
        "outputId": "6a8b6960-941e-4df7-cc23-d7e0e34cbe5a"
      },
      "outputs": [
        {
          "name": "stdout",
          "output_type": "stream",
          "text": [
            "Lasso - Mean Squared Error (MSE): 10273177.939951522\n",
            "Lasso - Root Mean Squared Error (RMSE): 3205.1798607802843\n",
            "Lasso - R-squared (R2): 0.0312874242539819\n",
            "Ridge - Mean Squared Error (MSE): 10274601.406635597\n",
            "Ridge - Root Mean Squared Error (RMSE): 3205.4019103125893\n",
            "Ridge - R-squared (R2): 0.031153198011033667\n",
            "                                Lasso Coefficient\n",
            "retailPrice                             11.867280\n",
            "days_since_release                       0.405212\n",
            "gender_men                               0.000000\n",
            "brand_Nike                              -0.000000\n",
            "averagePrice_Annual_Statistics           0.534640\n",
            "                                Ridge Coefficient\n",
            "retailPrice                             11.987967\n",
            "days_since_release                       0.404534\n",
            "gender_men                              10.368836\n",
            "brand_Nike                             -52.381526\n",
            "averagePrice_Annual_Statistics           0.537101\n"
          ]
        }
      ],
      "source": [
        "from sklearn.linear_model import LassoCV, RidgeCV\n",
        "\n",
        "# Lasso regression with cross-validation to find the best alpha\n",
        "lasso = LassoCV(cv=5).fit(X_train_imputed, y_train)\n",
        "lasso_pred = lasso.predict(X_test_imputed)\n",
        "\n",
        "# Ridge regression with cross-validation to find the best alpha\n",
        "ridge = RidgeCV(cv=5).fit(X_train_imputed, y_train)\n",
        "ridge_pred = ridge.predict(X_test_imputed)\n",
        "\n",
        "# Evaluate Lasso performance\n",
        "lasso_mse = mean_squared_error(y_test, lasso_pred)\n",
        "lasso_rmse = lasso_mse ** 0.5\n",
        "lasso_r2 = r2_score(y_test, lasso_pred)\n",
        "\n",
        "# Evaluate Ridge performance\n",
        "ridge_mse = mean_squared_error(y_test, ridge_pred)\n",
        "ridge_rmse = ridge_mse ** 0.5\n",
        "ridge_r2 = r2_score(y_test, ridge_pred)\n",
        "\n",
        "# Print out the metrics for Lasso\n",
        "print(f\"Lasso - Mean Squared Error (MSE): {lasso_mse}\")\n",
        "print(f\"Lasso - Root Mean Squared Error (RMSE): {lasso_rmse}\")\n",
        "print(f\"Lasso - R-squared (R2): {lasso_r2}\")\n",
        "\n",
        "# Print out the metrics for Ridge\n",
        "print(f\"Ridge - Mean Squared Error (MSE): {ridge_mse}\")\n",
        "print(f\"Ridge - Root Mean Squared Error (RMSE): {ridge_rmse}\")\n",
        "print(f\"Ridge - R-squared (R2): {ridge_r2}\")\n",
        "\n",
        "# Coefficients\n",
        "lasso_coefficients = pd.DataFrame(lasso.coef_, features, columns=['Lasso Coefficient'])\n",
        "ridge_coefficients = pd.DataFrame(ridge.coef_, features, columns=['Ridge Coefficient'])\n",
        "\n",
        "print(lasso_coefficients)\n",
        "print(ridge_coefficients)\n"
      ]
    },
    {
      "cell_type": "code",
      "execution_count": null,
      "metadata": {
        "colab": {
          "base_uri": "https://localhost:8080/"
        },
        "id": "AVbzsvwxoRxT",
        "outputId": "f4efcc9f-a425-4fcf-8eb6-a1763abfa15e"
      },
      "outputs": [
        {
          "name": "stdout",
          "output_type": "stream",
          "text": [
            "Random Forest - Mean Squared Error (MSE): 901313.1882148656\n",
            "Random Forest - Root Mean Squared Error (RMSE): 949.3751567293435\n",
            "Random Forest - R-squared (R2): 0.9150103867359278\n"
          ]
        }
      ],
      "source": [
        "from sklearn.ensemble import RandomForestRegressor\n",
        "\n",
        "# Fit Random Forest model\n",
        "rf_model = RandomForestRegressor(n_estimators=100, random_state=42)\n",
        "rf_model.fit(X_train_imputed, y_train)\n",
        "\n",
        "# Predict and evaluate\n",
        "y_pred_rf = rf_model.predict(X_test_imputed)\n",
        "mse_rf = mean_squared_error(y_test, y_pred_rf)\n",
        "rmse_rf = mse_rf ** 0.5\n",
        "r2_rf = r2_score(y_test, y_pred_rf)\n",
        "\n",
        "print(f\"Random Forest - Mean Squared Error (MSE): {mse_rf}\")\n",
        "print(f\"Random Forest - Root Mean Squared Error (RMSE): {rmse_rf}\")\n",
        "print(f\"Random Forest - R-squared (R2): {r2_rf}\")\n"
      ]
    },
    {
      "cell_type": "markdown",
      "metadata": {
        "id": "bePPH-wRLu6X"
      },
      "source": [
        "========================================================================="
      ]
    }
  ],
  "metadata": {
    "colab": {
      "provenance": []
    },
    "kernelspec": {
      "display_name": "Python 3",
      "name": "python3"
    },
    "language_info": {
      "codemirror_mode": {
        "name": "ipython",
        "version": 3
      },
      "file_extension": ".py",
      "mimetype": "text/x-python",
      "name": "python",
      "nbconvert_exporter": "python",
      "pygments_lexer": "ipython3",
      "version": "3.12.1"
    }
  },
  "nbformat": 4,
  "nbformat_minor": 0
}
